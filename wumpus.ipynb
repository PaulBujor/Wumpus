{
 "cells": [
  {
   "cell_type": "markdown",
   "source": [
    "Wumpus Notebook /\n",
    "1 = Perete /\n",
    "0 = Carare"
   ],
   "metadata": {
    "collapsed": false,
    "pycharm": {
     "name": "#%% md\n"
    }
   }
  },
  {
   "cell_type": "code",
   "execution_count": 10,
   "outputs": [
    {
     "ename": "ImportError",
     "evalue": "cannot import name 'Player' from 'player' (C:\\Users\\bujor\\OneDrive - ViaUC\\Skrivebord\\Wumpus\\player.py)",
     "output_type": "error",
     "traceback": [
      "\u001B[1;31m---------------------------------------------------------------------------\u001B[0m",
      "\u001B[1;31mImportError\u001B[0m                               Traceback (most recent call last)",
      "\u001B[1;32m<ipython-input-10-ab04979c4174>\u001B[0m in \u001B[0;36m<module>\u001B[1;34m\u001B[0m\n\u001B[0;32m      1\u001B[0m \u001B[1;32mimport\u001B[0m \u001B[0mnumpy\u001B[0m \u001B[1;32mas\u001B[0m \u001B[0mnp\u001B[0m\u001B[1;33m\u001B[0m\u001B[1;33m\u001B[0m\u001B[0m\n\u001B[0;32m      2\u001B[0m \u001B[1;32mfrom\u001B[0m \u001B[0mwumpus\u001B[0m \u001B[1;32mimport\u001B[0m \u001B[0mWumpus\u001B[0m\u001B[1;33m\u001B[0m\u001B[1;33m\u001B[0m\u001B[0m\n\u001B[1;32m----> 3\u001B[1;33m \u001B[1;32mfrom\u001B[0m \u001B[0mplayer\u001B[0m \u001B[1;32mimport\u001B[0m \u001B[0mPlayer\u001B[0m\u001B[1;33m\u001B[0m\u001B[1;33m\u001B[0m\u001B[0m\n\u001B[0m\u001B[0;32m      4\u001B[0m \u001B[1;32mimport\u001B[0m \u001B[0mrandom\u001B[0m\u001B[1;33m\u001B[0m\u001B[1;33m\u001B[0m\u001B[0m\n\u001B[0;32m      5\u001B[0m \u001B[1;33m\u001B[0m\u001B[0m\n",
      "\u001B[1;31mImportError\u001B[0m: cannot import name 'Player' from 'player' (C:\\Users\\bujor\\OneDrive - ViaUC\\Skrivebord\\Wumpus\\player.py)"
     ]
    }
   ],
   "source": [
    "import numpy as np\n",
    "from wumpus import Wumpus\n",
    "from player import Player\n",
    "import random"
   ],
   "metadata": {
    "collapsed": false,
    "pycharm": {
     "name": "#%%\n"
    }
   }
  },
  {
   "cell_type": "code",
   "execution_count": null,
   "outputs": [],
   "source": [
    "def randomPos():\n",
    "    randX = random.randrange(1, 7)\n",
    "    randY = random.randrange(1, 7)\n",
    "    while mina[randY][randX] == 1 or (randX == 1 and randY == 1):\n",
    "        randX = random.randrange(1, 7)\n",
    "        randY = random.randrange(1, 7)\n",
    "    return randX, randY"
   ],
   "metadata": {
    "collapsed": false,
    "pycharm": {
     "name": "#%%\n"
    }
   }
  },
  {
   "cell_type": "code",
   "execution_count": 11,
   "outputs": [
    {
     "ename": "NameError",
     "evalue": "name 'Player' is not defined",
     "output_type": "error",
     "traceback": [
      "\u001B[1;31m---------------------------------------------------------------------------\u001B[0m",
      "\u001B[1;31mNameError\u001B[0m                                 Traceback (most recent call last)",
      "\u001B[1;32m<ipython-input-11-bc3671ba5068>\u001B[0m in \u001B[0;36m<module>\u001B[1;34m\u001B[0m\n\u001B[0;32m      7\u001B[0m         [1, 1, 1, 1, 1, 1, 1]]\n\u001B[0;32m      8\u001B[0m \u001B[1;33m\u001B[0m\u001B[0m\n\u001B[1;32m----> 9\u001B[1;33m \u001B[0mplayer\u001B[0m \u001B[1;33m=\u001B[0m \u001B[0mPlayer\u001B[0m\u001B[1;33m(\u001B[0m\u001B[1;33m)\u001B[0m\u001B[1;33m\u001B[0m\u001B[1;33m\u001B[0m\u001B[0m\n\u001B[0m\u001B[0;32m     10\u001B[0m \u001B[1;33m\u001B[0m\u001B[0m\n\u001B[0;32m     11\u001B[0m \u001B[0mwumpusPosition\u001B[0m \u001B[1;33m=\u001B[0m \u001B[0mrandomPos\u001B[0m\u001B[1;33m(\u001B[0m\u001B[1;33m)\u001B[0m\u001B[1;33m\u001B[0m\u001B[1;33m\u001B[0m\u001B[0m\n",
      "\u001B[1;31mNameError\u001B[0m: name 'Player' is not defined"
     ]
    }
   ],
   "source": [
    "mina = [[1, 1, 1, 1, 1, 1, 1],\n",
    "        [1, 0, 0, 0, 1, 0, 1],\n",
    "        [1, 0, 1, 0, 1, 0, 1],\n",
    "        [1, 0, 1, 0, 0, 0, 1],\n",
    "        [1, 0, 0, 0, 1, 1, 1],\n",
    "        [1, 1, 0, 0, 0, 0, 1],\n",
    "        [1, 1, 1, 1, 1, 1, 1]]\n",
    "\n",
    "player = Player()\n",
    "\n",
    "wumpusPosition = randomPos()\n",
    "wumpus = Wumpus(wumpusPosition[0], wumpusPosition[1])\n",
    "print(wumpus.printPosition())\n",
    "\n",
    "gameFinished = False\n",
    "\n",
    "print(player.printPosition())\n",
    "while not gameFinished:\n",
    "    cmd = input(\"Enter UP / DOWN / LEFT / RIGHT / EXIT: \")\n",
    "    if cmd.upper() == \"UP\":\n",
    "        player.moveUp()\n",
    "    elif cmd.upper() == \"DOWN\":\n",
    "        player.moveDown()\n",
    "    elif cmd.upper() == \"LEFT\":\n",
    "        player.moveLeft()\n",
    "    elif cmd.upper() == \"RIGHT\":\n",
    "        player.moveRight()\n",
    "    elif cmd == \"EXIT\":\n",
    "        gameFinished = True\n",
    "    else:\n",
    "        print(\"idiot\")\n",
    "    print(player.printPosition())\n",
    "\n",
    "print(\"Game finished.\")\n"
   ],
   "metadata": {
    "collapsed": false,
    "pycharm": {
     "name": "#%%\n"
    }
   }
  },
  {
   "cell_type": "code",
   "execution_count": null,
   "outputs": [],
   "source": [
    "\n"
   ],
   "metadata": {
    "collapsed": false,
    "pycharm": {
     "name": "#%%\n"
    }
   }
  }
 ],
 "metadata": {
  "kernelspec": {
   "name": "python3",
   "language": "python",
   "display_name": "Python 3"
  },
  "language_info": {
   "codemirror_mode": {
    "name": "ipython",
    "version": 2
   },
   "file_extension": ".py",
   "mimetype": "text/x-python",
   "name": "python",
   "nbconvert_exporter": "python",
   "pygments_lexer": "ipython2",
   "version": "2.7.6"
  }
 },
 "nbformat": 4,
 "nbformat_minor": 0
}