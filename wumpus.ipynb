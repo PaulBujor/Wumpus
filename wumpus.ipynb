{
 "cells": [
  {
   "cell_type": "markdown",
   "source": [
    "Wumpus Notebook /\n",
    "1 = Perete /\n",
    "0 = Carare"
   ],
   "metadata": {
    "collapsed": false,
    "pycharm": {
     "name": "#%% md\n"
    }
   }
  },
  {
   "cell_type": "code",
   "execution_count": 6,
   "outputs": [
    {
     "name": "stdout",
     "output_type": "stream",
     "text": [
      "Wumpus @ x: 1 y: 3\n"
     ]
    }
   ],
   "source": [
    "import numpy as np\n",
    "from wumpus import *\n",
    "import random\n",
    "\n",
    "mina = [[1, 1, 1, 1, 1, 1, 1],\n",
    "        [1, 0, 0, 0, 1, 0, 1],\n",
    "        [1, 0, 1, 0, 1, 0, 1],\n",
    "        [1, 0, 1, 0, 0, 0, 1],\n",
    "        [1, 0, 0, 0, 1, 1, 1],\n",
    "        [1, 1, 0, 0, 0, 0, 1],\n",
    "        [1, 1, 1, 1, 1, 1, 1]]\n",
    "\n",
    "\n",
    "randX = random.randrange(1, 7)\n",
    "randY = random.randrange(1, 7)\n",
    "while mina[randY][randX] == 1 or (randX == 1 and randY == 1):\n",
    "    randX = random.randrange(1, 7)\n",
    "    randY = random.randrange(1, 7)\n",
    "\n",
    "wumpus = Wumpus(randX, randY)\n",
    "print(\"Wumpus @ x: {} y: {}\".format(wumpus.getX(), wumpus.getY()))"
   ],
   "metadata": {
    "collapsed": false,
    "pycharm": {
     "name": "#%%\n"
    }
   }
  },
  {
   "cell_type": "code",
   "execution_count": 5,
   "outputs": [],
   "source": [],
   "metadata": {
    "collapsed": false,
    "pycharm": {
     "name": "#%%\n"
    }
   }
  }
 ],
 "metadata": {
  "kernelspec": {
   "name": "python3",
   "language": "python",
   "display_name": "Python 3"
  },
  "language_info": {
   "codemirror_mode": {
    "name": "ipython",
    "version": 2
   },
   "file_extension": ".py",
   "mimetype": "text/x-python",
   "name": "python",
   "nbconvert_exporter": "python",
   "pygments_lexer": "ipython2",
   "version": "2.7.6"
  }
 },
 "nbformat": 4,
 "nbformat_minor": 0
}